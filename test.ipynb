{
 "cells": [
  {
   "cell_type": "code",
   "execution_count": 19,
   "metadata": {},
   "outputs": [],
   "source": [
    "import pandas as pd"
   ]
  },
  {
   "cell_type": "code",
   "execution_count": 3,
   "metadata": {},
   "outputs": [],
   "source": [
    "from datasets import load_dataset"
   ]
  },
  {
   "cell_type": "code",
   "execution_count": 14,
   "metadata": {},
   "outputs": [],
   "source": [
    "# List of configurations\n",
    "configu = ['emoji', 'emotion', 'hate', 'irony', 'offensive', 'sentiment', \n",
    "           'stance_abortion', 'stance_atheism', 'stance_feminist', 'stance_hillary']\n",
    "\n",
    "#configu = ['stance_atheism', 'stance_feminist', 'stance_hillary']\n",
    "\n",
    "\n",
    "# Dictionary to store datasets\n",
    "datasets = {}\n",
    "\n",
    "# Loop through each config and load the corresponding dataset\n",
    "for config in configu:\n",
    "    datasets[config] = load_dataset(\"cardiffnlp/tweet_eval\", config)\n",
    "\n",
    "# Now 'datasets' will contain each configuration's dataset\n",
    "# Example of accessing the 'emotion' dataset\n",
    "#emotion_data = datasets['emotion']\n"
   ]
  },
  {
   "cell_type": "code",
   "execution_count": 16,
   "metadata": {},
   "outputs": [
    {
     "data": {
      "text/plain": [
       "10"
      ]
     },
     "execution_count": 16,
     "metadata": {},
     "output_type": "execute_result"
    }
   ],
   "source": [
    "len(datasets)"
   ]
  },
  {
   "cell_type": "code",
   "execution_count": 20,
   "metadata": {},
   "outputs": [
    {
     "name": "stdout",
     "output_type": "stream",
     "text": [
      "Saved emoji_train.csv\n",
      "Saved emoji_test.csv\n",
      "Saved emoji_validation.csv\n",
      "Saved emotion_train.csv\n",
      "Saved emotion_test.csv\n",
      "Saved emotion_validation.csv\n",
      "Saved hate_train.csv\n",
      "Saved hate_test.csv\n",
      "Saved hate_validation.csv\n",
      "Saved irony_train.csv\n",
      "Saved irony_test.csv\n",
      "Saved irony_validation.csv\n",
      "Saved offensive_train.csv\n",
      "Saved offensive_test.csv\n",
      "Saved offensive_validation.csv\n",
      "Saved sentiment_train.csv\n",
      "Saved sentiment_test.csv\n",
      "Saved sentiment_validation.csv\n",
      "Saved stance_abortion_train.csv\n",
      "Saved stance_abortion_test.csv\n",
      "Saved stance_abortion_validation.csv\n",
      "Saved stance_atheism_train.csv\n",
      "Saved stance_atheism_test.csv\n",
      "Saved stance_atheism_validation.csv\n",
      "Saved stance_feminist_train.csv\n",
      "Saved stance_feminist_test.csv\n",
      "Saved stance_feminist_validation.csv\n",
      "Saved stance_hillary_train.csv\n",
      "Saved stance_hillary_test.csv\n",
      "Saved stance_hillary_validation.csv\n"
     ]
    }
   ],
   "source": [
    "for config, dataset in datasets.items():\n",
    "    for split in dataset.keys():\n",
    "        df = pd.DataFrame(dataset[split])\n",
    "        csv_filename = f\"{config}_{split}.csv\"\n",
    "        df.to_csv(csv_filename, index=False)\n",
    "        print(f\"Saved {csv_filename}\")\n",
    "        \n",
    "        "
   ]
  },
  {
   "cell_type": "code",
   "execution_count": null,
   "metadata": {},
   "outputs": [],
   "source": []
  }
 ],
 "metadata": {
  "kernelspec": {
   "display_name": "base",
   "language": "python",
   "name": "python3"
  },
  "language_info": {
   "codemirror_mode": {
    "name": "ipython",
    "version": 3
   },
   "file_extension": ".py",
   "mimetype": "text/x-python",
   "name": "python",
   "nbconvert_exporter": "python",
   "pygments_lexer": "ipython3",
   "version": "3.11.4"
  }
 },
 "nbformat": 4,
 "nbformat_minor": 2
}
